{
 "cells": [
  {
   "cell_type": "markdown",
   "id": "4ce1c017-33b7-4ee3-98da-eb9d00ace206",
   "metadata": {},
   "source": [
    "# Analyzing a Phase I Clinical Trial\n",
    "\n",
    "Welcome to the AI Hub's tutorial on analyzing Phase I Trials! In this Jupyter notebook you will find a guide to analyzing a simple Phase I trial using fictional data.\n",
    "\n",
    "Typically, Phase I trials aim to find the appropriate dosage of a new treatment by administering it to a small group of healthy participants. Then, researchers monitor the participants' reaction, collect data, and use the data to determine human tolerance to the new treatment. [Further reading can be done at fda.gov](https://www.fda.gov/patients/learn-about-drug-and-device-approvals/drug-development-process).\n",
    "\n",
    "In our case study here, the new treament is given to test subjects either 1, 2, or 3 times. These dosages are indicated by a \"dose number\", and if the subject has an adverse reaction, the severity and duration of the reaction is recorded. We will be looking to answer three questions:\n",
    "\n",
    "1. What is the frequency and severity of adverse events from Phase I?\n",
    "2. Are there any dose-related trends in the adverse events?\n",
    "3. What recommendations can we make regarding Phase II?\n",
    "\n",
    "By the end of this tutorial, we will see that adverse effects occur 37% of the time, but the majority of these events are mild in severity. At this point, we are not able to conclude that the duration of the mild adverse events is affected by the dose number, but further testing could clarify the picture. \n",
    "\n",
    "Let's dive in!\n"
   ]
  },
  {
   "cell_type": "markdown",
   "id": "bd3dd2a6-7b8d-46c7-b7ab-24c8943a878d",
   "metadata": {},
   "source": [
    "## Imports\n",
    "\n",
    "First, we will import a handful of modules. You may need to install one of these packages using the command line tool `pip`. [Instructions can be found here.](https://pypi.org/project/pip/)"
   ]
  },
  {
   "cell_type": "code",
   "execution_count": 1,
   "id": "55de7898-503f-4097-9595-96c1fd771754",
   "metadata": {},
   "outputs": [],
   "source": [
    "import pandas as pd\n",
    "import numpy as np\n",
    "import matplotlib.pyplot as plt\n",
    "from scipy.stats import f_oneway\n",
    "\n",
    "pd.set_option('display.float_format', lambda x: '%.2f' % x)"
   ]
  },
  {
   "cell_type": "markdown",
   "id": "8bea437a-116c-4647-b8fe-eb32b0a17c19",
   "metadata": {},
   "source": [
    "## Read Data\n",
    "\n",
    "Next, we will read in the data and take a look at each table by using the `head` method. Our data is stored in two csv's: `synthetic_participant_data.csv` and `synthetic_dose_data.csv'`. Both can be found in the `data/` directory included in this repo."
   ]
  },
  {
   "cell_type": "code",
   "execution_count": 2,
   "id": "e34e09bd-98bd-4030-a409-429278e49c17",
   "metadata": {},
   "outputs": [],
   "source": [
    "participants_df = pd.read_csv('./data/synthetic_participant_data.csv', \n",
    "                              keep_default_na=False)\n",
    "\n",
    "dose_df = pd.read_csv('./data/synthetic_dose_data.csv', keep_default_na=False)"
   ]
  },
  {
   "cell_type": "code",
   "execution_count": 3,
   "id": "9016b1a6-b5f5-46de-9bc4-f15a00bfa57c",
   "metadata": {},
   "outputs": [
    {
     "data": {
      "text/html": [
       "<div>\n",
       "<style scoped>\n",
       "    .dataframe tbody tr th:only-of-type {\n",
       "        vertical-align: middle;\n",
       "    }\n",
       "\n",
       "    .dataframe tbody tr th {\n",
       "        vertical-align: top;\n",
       "    }\n",
       "\n",
       "    .dataframe thead th {\n",
       "        text-align: right;\n",
       "    }\n",
       "</style>\n",
       "<table border=\"1\" class=\"dataframe\">\n",
       "  <thead>\n",
       "    <tr style=\"text-align: right;\">\n",
       "      <th></th>\n",
       "      <th>ParticipantID</th>\n",
       "      <th>Age</th>\n",
       "      <th>Gender</th>\n",
       "      <th>Ethnicity</th>\n",
       "      <th>Weight</th>\n",
       "      <th>Height</th>\n",
       "      <th>MedicalHistory</th>\n",
       "      <th>BaselineVitals</th>\n",
       "      <th>InclusionCriteriaMet</th>\n",
       "      <th>ExclusionCriteriaMet</th>\n",
       "      <th>Accepted</th>\n",
       "      <th>Started</th>\n",
       "      <th>Finished</th>\n",
       "    </tr>\n",
       "  </thead>\n",
       "  <tbody>\n",
       "    <tr>\n",
       "      <th>0</th>\n",
       "      <td>0</td>\n",
       "      <td>62</td>\n",
       "      <td>Male</td>\n",
       "      <td>Ethnicity1</td>\n",
       "      <td>61</td>\n",
       "      <td>164</td>\n",
       "      <td>History2</td>\n",
       "      <td>Elevated</td>\n",
       "      <td>False</td>\n",
       "      <td>0</td>\n",
       "      <td>0</td>\n",
       "      <td>0</td>\n",
       "      <td>0</td>\n",
       "    </tr>\n",
       "    <tr>\n",
       "      <th>1</th>\n",
       "      <td>1</td>\n",
       "      <td>49</td>\n",
       "      <td>Male</td>\n",
       "      <td>Ethnicity1</td>\n",
       "      <td>76</td>\n",
       "      <td>166</td>\n",
       "      <td>History2</td>\n",
       "      <td>Slightly Elevated</td>\n",
       "      <td>True</td>\n",
       "      <td>0</td>\n",
       "      <td>0</td>\n",
       "      <td>0</td>\n",
       "      <td>0</td>\n",
       "    </tr>\n",
       "    <tr>\n",
       "      <th>2</th>\n",
       "      <td>2</td>\n",
       "      <td>62</td>\n",
       "      <td>Male</td>\n",
       "      <td>Ethnicity2</td>\n",
       "      <td>57</td>\n",
       "      <td>172</td>\n",
       "      <td>History2</td>\n",
       "      <td>Normal</td>\n",
       "      <td>True</td>\n",
       "      <td>0</td>\n",
       "      <td>0</td>\n",
       "      <td>0</td>\n",
       "      <td>0</td>\n",
       "    </tr>\n",
       "    <tr>\n",
       "      <th>3</th>\n",
       "      <td>3</td>\n",
       "      <td>64</td>\n",
       "      <td>Other</td>\n",
       "      <td>Ethnicity4</td>\n",
       "      <td>74</td>\n",
       "      <td>173</td>\n",
       "      <td>History1</td>\n",
       "      <td>Elevated</td>\n",
       "      <td>False</td>\n",
       "      <td>0</td>\n",
       "      <td>0</td>\n",
       "      <td>0</td>\n",
       "      <td>0</td>\n",
       "    </tr>\n",
       "    <tr>\n",
       "      <th>4</th>\n",
       "      <td>4</td>\n",
       "      <td>38</td>\n",
       "      <td>Other</td>\n",
       "      <td>Ethnicity4</td>\n",
       "      <td>95</td>\n",
       "      <td>194</td>\n",
       "      <td>None</td>\n",
       "      <td>Normal</td>\n",
       "      <td>False</td>\n",
       "      <td>0</td>\n",
       "      <td>0</td>\n",
       "      <td>0</td>\n",
       "      <td>0</td>\n",
       "    </tr>\n",
       "  </tbody>\n",
       "</table>\n",
       "</div>"
      ],
      "text/plain": [
       "   ParticipantID  Age Gender   Ethnicity  Weight  Height MedicalHistory  \\\n",
       "0              0   62   Male  Ethnicity1      61     164       History2   \n",
       "1              1   49   Male  Ethnicity1      76     166       History2   \n",
       "2              2   62   Male  Ethnicity2      57     172       History2   \n",
       "3              3   64  Other  Ethnicity4      74     173       History1   \n",
       "4              4   38  Other  Ethnicity4      95     194           None   \n",
       "\n",
       "      BaselineVitals  InclusionCriteriaMet  ExclusionCriteriaMet  Accepted  \\\n",
       "0           Elevated                 False                     0         0   \n",
       "1  Slightly Elevated                  True                     0         0   \n",
       "2             Normal                  True                     0         0   \n",
       "3           Elevated                 False                     0         0   \n",
       "4             Normal                 False                     0         0   \n",
       "\n",
       "   Started  Finished  \n",
       "0        0         0  \n",
       "1        0         0  \n",
       "2        0         0  \n",
       "3        0         0  \n",
       "4        0         0  "
      ]
     },
     "execution_count": 3,
     "metadata": {},
     "output_type": "execute_result"
    }
   ],
   "source": [
    "participants_df.head()"
   ]
  },
  {
   "cell_type": "code",
   "execution_count": 4,
   "id": "95170c72-68f8-4baa-8df3-a70a63aed942",
   "metadata": {},
   "outputs": [
    {
     "data": {
      "text/html": [
       "<div>\n",
       "<style scoped>\n",
       "    .dataframe tbody tr th:only-of-type {\n",
       "        vertical-align: middle;\n",
       "    }\n",
       "\n",
       "    .dataframe tbody tr th {\n",
       "        vertical-align: top;\n",
       "    }\n",
       "\n",
       "    .dataframe thead th {\n",
       "        text-align: right;\n",
       "    }\n",
       "</style>\n",
       "<table border=\"1\" class=\"dataframe\">\n",
       "  <thead>\n",
       "    <tr style=\"text-align: right;\">\n",
       "      <th></th>\n",
       "      <th>DoseID</th>\n",
       "      <th>ParticipantID</th>\n",
       "      <th>DoseNumber</th>\n",
       "      <th>AdministrationDate</th>\n",
       "      <th>AdverseEvents</th>\n",
       "      <th>SeverityOfAdverseEvents</th>\n",
       "      <th>DurationOfAdverseEvents</th>\n",
       "      <th>VitalsPostDose</th>\n",
       "      <th>LabResultsPostDose</th>\n",
       "    </tr>\n",
       "  </thead>\n",
       "  <tbody>\n",
       "    <tr>\n",
       "      <th>0</th>\n",
       "      <td>1</td>\n",
       "      <td>368</td>\n",
       "      <td>1</td>\n",
       "      <td>2023-01-15</td>\n",
       "      <td>None</td>\n",
       "      <td>None</td>\n",
       "      <td>0</td>\n",
       "      <td>Normal</td>\n",
       "      <td>Abnormal</td>\n",
       "    </tr>\n",
       "    <tr>\n",
       "      <th>1</th>\n",
       "      <td>2</td>\n",
       "      <td>368</td>\n",
       "      <td>2</td>\n",
       "      <td>2023-01-09</td>\n",
       "      <td>Mild</td>\n",
       "      <td>High</td>\n",
       "      <td>3</td>\n",
       "      <td>Elevated</td>\n",
       "      <td>Within Normal Limits</td>\n",
       "    </tr>\n",
       "    <tr>\n",
       "      <th>2</th>\n",
       "      <td>3</td>\n",
       "      <td>481</td>\n",
       "      <td>1</td>\n",
       "      <td>2023-01-08</td>\n",
       "      <td>Mild</td>\n",
       "      <td>Low</td>\n",
       "      <td>3</td>\n",
       "      <td>Normal</td>\n",
       "      <td>Slightly Abnormal</td>\n",
       "    </tr>\n",
       "    <tr>\n",
       "      <th>3</th>\n",
       "      <td>4</td>\n",
       "      <td>481</td>\n",
       "      <td>2</td>\n",
       "      <td>2023-01-07</td>\n",
       "      <td>None</td>\n",
       "      <td>None</td>\n",
       "      <td>0</td>\n",
       "      <td>Elevated</td>\n",
       "      <td>Within Normal Limits</td>\n",
       "    </tr>\n",
       "    <tr>\n",
       "      <th>4</th>\n",
       "      <td>5</td>\n",
       "      <td>481</td>\n",
       "      <td>3</td>\n",
       "      <td>2023-01-08</td>\n",
       "      <td>None</td>\n",
       "      <td>None</td>\n",
       "      <td>0</td>\n",
       "      <td>Normal</td>\n",
       "      <td>Abnormal</td>\n",
       "    </tr>\n",
       "  </tbody>\n",
       "</table>\n",
       "</div>"
      ],
      "text/plain": [
       "   DoseID  ParticipantID  DoseNumber AdministrationDate AdverseEvents  \\\n",
       "0       1            368           1         2023-01-15          None   \n",
       "1       2            368           2         2023-01-09          Mild   \n",
       "2       3            481           1         2023-01-08          Mild   \n",
       "3       4            481           2         2023-01-07          None   \n",
       "4       5            481           3         2023-01-08          None   \n",
       "\n",
       "  SeverityOfAdverseEvents  DurationOfAdverseEvents VitalsPostDose  \\\n",
       "0                    None                        0         Normal   \n",
       "1                    High                        3       Elevated   \n",
       "2                     Low                        3         Normal   \n",
       "3                    None                        0       Elevated   \n",
       "4                    None                        0         Normal   \n",
       "\n",
       "     LabResultsPostDose  \n",
       "0              Abnormal  \n",
       "1  Within Normal Limits  \n",
       "2     Slightly Abnormal  \n",
       "3  Within Normal Limits  \n",
       "4              Abnormal  "
      ]
     },
     "execution_count": 4,
     "metadata": {},
     "output_type": "execute_result"
    }
   ],
   "source": [
    "dose_df.head()"
   ]
  },
  {
   "cell_type": "markdown",
   "id": "71587f51-cb84-4c74-8dc9-3b0eb399e8e8",
   "metadata": {},
   "source": [
    "We can see that our `participants_df` table contains a row for each participant and includes biometric data as well as fields regarding participation in our Phase I trial. The `Accepted`, `Started`, and `Finished` fields show that not every participant was actually given a dose of the treatment.\n",
    "\n",
    "Our `dose_df` table contains a row for each dose administered alongside information on the paricipants' reaction to the treatment. This table shares a common `ParticipantID` with `participants_df` and thus can be joined on this column.\n",
    "\n",
    "## Descriptive Data\n",
    "\n",
    "No data analysis is complete without some descriptive data! A deep dive here is outside the scope of this tutorial since we are focusing on the relationship between dose amount and adverse effects, but it is good practice to always have some understanding of the data we have at our disposal.\n",
    "\n",
    "### Participants\n",
    "\n",
    "Let's take a look at the number of participants who `Accepted`, `Started`, and `Finished` the trial, and then summarize our categorical and numeric fields."
   ]
  },
  {
   "cell_type": "code",
   "execution_count": 5,
   "id": "7535f875-f380-42a9-8327-b91ccf240dbf",
   "metadata": {},
   "outputs": [
    {
     "data": {
      "text/html": [
       "<div>\n",
       "<style scoped>\n",
       "    .dataframe tbody tr th:only-of-type {\n",
       "        vertical-align: middle;\n",
       "    }\n",
       "\n",
       "    .dataframe tbody tr th {\n",
       "        vertical-align: top;\n",
       "    }\n",
       "\n",
       "    .dataframe thead th {\n",
       "        text-align: right;\n",
       "    }\n",
       "</style>\n",
       "<table border=\"1\" class=\"dataframe\">\n",
       "  <thead>\n",
       "    <tr style=\"text-align: right;\">\n",
       "      <th></th>\n",
       "      <th>Accepted</th>\n",
       "      <th>Started</th>\n",
       "      <th>Finished</th>\n",
       "    </tr>\n",
       "  </thead>\n",
       "  <tbody>\n",
       "    <tr>\n",
       "      <th>count</th>\n",
       "      <td>541</td>\n",
       "      <td>541</td>\n",
       "      <td>541</td>\n",
       "    </tr>\n",
       "    <tr>\n",
       "      <th>sum</th>\n",
       "      <td>69</td>\n",
       "      <td>67</td>\n",
       "      <td>59</td>\n",
       "    </tr>\n",
       "  </tbody>\n",
       "</table>\n",
       "</div>"
      ],
      "text/plain": [
       "       Accepted  Started  Finished\n",
       "count       541      541       541\n",
       "sum          69       67        59"
      ]
     },
     "execution_count": 5,
     "metadata": {},
     "output_type": "execute_result"
    }
   ],
   "source": [
    "trial_participation_columns = ['Accepted', 'Started', 'Finished']\n",
    "\n",
    "participants_df[trial_participation_columns].agg(['count', 'sum'])"
   ]
  },
  {
   "cell_type": "markdown",
   "id": "4a737cf0-cffa-410a-bf71-0c45b6c7b86e",
   "metadata": {},
   "source": [
    "While the trial reached out to 541 potential participants, only 69 accepted. Of those 69, 67 took a single dose and 59 completed the entire study. Now, let's look at the categorical variables."
   ]
  },
  {
   "cell_type": "code",
   "execution_count": 6,
   "id": "e2ea5442-c1f1-4318-893b-60970039b1e0",
   "metadata": {},
   "outputs": [
    {
     "data": {
      "text/html": [
       "<div>\n",
       "<style scoped>\n",
       "    .dataframe tbody tr th:only-of-type {\n",
       "        vertical-align: middle;\n",
       "    }\n",
       "\n",
       "    .dataframe tbody tr th {\n",
       "        vertical-align: top;\n",
       "    }\n",
       "\n",
       "    .dataframe thead th {\n",
       "        text-align: right;\n",
       "    }\n",
       "</style>\n",
       "<table border=\"1\" class=\"dataframe\">\n",
       "  <thead>\n",
       "    <tr style=\"text-align: right;\">\n",
       "      <th></th>\n",
       "      <th>Gender</th>\n",
       "      <th>Ethnicity</th>\n",
       "      <th>MedicalHistory</th>\n",
       "      <th>BaselineVitals</th>\n",
       "    </tr>\n",
       "  </thead>\n",
       "  <tbody>\n",
       "    <tr>\n",
       "      <th>count</th>\n",
       "      <td>541</td>\n",
       "      <td>541</td>\n",
       "      <td>541</td>\n",
       "      <td>541</td>\n",
       "    </tr>\n",
       "    <tr>\n",
       "      <th>unique</th>\n",
       "      <td>3</td>\n",
       "      <td>4</td>\n",
       "      <td>3</td>\n",
       "      <td>3</td>\n",
       "    </tr>\n",
       "    <tr>\n",
       "      <th>top</th>\n",
       "      <td>Male</td>\n",
       "      <td>Ethnicity2</td>\n",
       "      <td>History1</td>\n",
       "      <td>Normal</td>\n",
       "    </tr>\n",
       "    <tr>\n",
       "      <th>freq</th>\n",
       "      <td>189</td>\n",
       "      <td>143</td>\n",
       "      <td>194</td>\n",
       "      <td>190</td>\n",
       "    </tr>\n",
       "  </tbody>\n",
       "</table>\n",
       "</div>"
      ],
      "text/plain": [
       "       Gender   Ethnicity MedicalHistory BaselineVitals\n",
       "count     541         541            541            541\n",
       "unique      3           4              3              3\n",
       "top      Male  Ethnicity2       History1         Normal\n",
       "freq      189         143            194            190"
      ]
     },
     "execution_count": 6,
     "metadata": {},
     "output_type": "execute_result"
    }
   ],
   "source": [
    "categorical_cols = ['Gender', 'Ethnicity', 'MedicalHistory', 'BaselineVitals']\n",
    "\n",
    "participants_df[categorical_cols].describe()"
   ]
  },
  {
   "cell_type": "markdown",
   "id": "ac975dfe-9ac8-4efe-ac30-bbe888c00324",
   "metadata": {},
   "source": [
    "The `unique` row shows the number of possible values in each field. The `top` row states the mode of the field, and the `freq` row indicates the amount of times the mode appears. Moving onto our numeric data:"
   ]
  },
  {
   "cell_type": "code",
   "execution_count": 7,
   "id": "848f17f5-6771-416b-b7fb-6f2f3cb40de3",
   "metadata": {},
   "outputs": [
    {
     "data": {
      "text/html": [
       "<div>\n",
       "<style scoped>\n",
       "    .dataframe tbody tr th:only-of-type {\n",
       "        vertical-align: middle;\n",
       "    }\n",
       "\n",
       "    .dataframe tbody tr th {\n",
       "        vertical-align: top;\n",
       "    }\n",
       "\n",
       "    .dataframe thead th {\n",
       "        text-align: right;\n",
       "    }\n",
       "</style>\n",
       "<table border=\"1\" class=\"dataframe\">\n",
       "  <thead>\n",
       "    <tr style=\"text-align: right;\">\n",
       "      <th></th>\n",
       "      <th>Age</th>\n",
       "      <th>Weight</th>\n",
       "      <th>Height</th>\n",
       "    </tr>\n",
       "  </thead>\n",
       "  <tbody>\n",
       "    <tr>\n",
       "      <th>count</th>\n",
       "      <td>541.00</td>\n",
       "      <td>541.00</td>\n",
       "      <td>541.00</td>\n",
       "    </tr>\n",
       "    <tr>\n",
       "      <th>mean</th>\n",
       "      <td>40.84</td>\n",
       "      <td>73.57</td>\n",
       "      <td>174.57</td>\n",
       "    </tr>\n",
       "    <tr>\n",
       "      <th>std</th>\n",
       "      <td>13.78</td>\n",
       "      <td>14.41</td>\n",
       "      <td>14.26</td>\n",
       "    </tr>\n",
       "    <tr>\n",
       "      <th>min</th>\n",
       "      <td>18.00</td>\n",
       "      <td>50.00</td>\n",
       "      <td>150.00</td>\n",
       "    </tr>\n",
       "    <tr>\n",
       "      <th>25%</th>\n",
       "      <td>28.00</td>\n",
       "      <td>61.00</td>\n",
       "      <td>163.00</td>\n",
       "    </tr>\n",
       "    <tr>\n",
       "      <th>50%</th>\n",
       "      <td>42.00</td>\n",
       "      <td>73.00</td>\n",
       "      <td>174.00</td>\n",
       "    </tr>\n",
       "    <tr>\n",
       "      <th>75%</th>\n",
       "      <td>53.00</td>\n",
       "      <td>85.00</td>\n",
       "      <td>187.00</td>\n",
       "    </tr>\n",
       "    <tr>\n",
       "      <th>max</th>\n",
       "      <td>64.00</td>\n",
       "      <td>99.00</td>\n",
       "      <td>199.00</td>\n",
       "    </tr>\n",
       "  </tbody>\n",
       "</table>\n",
       "</div>"
      ],
      "text/plain": [
       "         Age  Weight  Height\n",
       "count 541.00  541.00  541.00\n",
       "mean   40.84   73.57  174.57\n",
       "std    13.78   14.41   14.26\n",
       "min    18.00   50.00  150.00\n",
       "25%    28.00   61.00  163.00\n",
       "50%    42.00   73.00  174.00\n",
       "75%    53.00   85.00  187.00\n",
       "max    64.00   99.00  199.00"
      ]
     },
     "execution_count": 7,
     "metadata": {},
     "output_type": "execute_result"
    }
   ],
   "source": [
    "numeric_cols = ['Age', 'Weight', 'Height']\n",
    "\n",
    "participants_df[numeric_cols].describe()"
   ]
  },
  {
   "cell_type": "markdown",
   "id": "8a9f3b9b-52f0-48b9-aa30-7df07e8ea76e",
   "metadata": {},
   "source": [
    "The above table summarizes the participants' `Age`, `Weight`, and `Height`. These values are for all participants that the trial reached out to, not just the ones who eventually enrolled in the study.\n",
    "\n",
    "Thus, it is important to confirm that there is no selection bias in our trial. In this tutorial, we will simply compare the demographics of participants who completed the trial vs. all the participants, but we encourage those using real world data to take a deeper look at this stage. One way to achieve this is to use t-tests to confirm that the group that accepted the trial is not siginificantly different from the group that did not. One could also compare these values to the general population as a secondary check."
   ]
  },
  {
   "cell_type": "code",
   "execution_count": 8,
   "id": "6bd67ce5-dd08-4d03-8850-01c5bc17f346",
   "metadata": {},
   "outputs": [
    {
     "data": {
      "text/html": [
       "<style type=\"text/css\">\n",
       "</style>\n",
       "<table id=\"T_66338\">\n",
       "  <thead>\n",
       "    <tr>\n",
       "      <th class=\"index_name level0\" >Gender</th>\n",
       "      <th id=\"T_66338_level0_col0\" class=\"col_heading level0 col0\" >Female</th>\n",
       "      <th id=\"T_66338_level0_col1\" class=\"col_heading level0 col1\" >Male</th>\n",
       "      <th id=\"T_66338_level0_col2\" class=\"col_heading level0 col2\" >Other</th>\n",
       "    </tr>\n",
       "    <tr>\n",
       "      <th class=\"index_name level0\" >Finished</th>\n",
       "      <th class=\"blank col0\" >&nbsp;</th>\n",
       "      <th class=\"blank col1\" >&nbsp;</th>\n",
       "      <th class=\"blank col2\" >&nbsp;</th>\n",
       "    </tr>\n",
       "  </thead>\n",
       "  <tbody>\n",
       "    <tr>\n",
       "      <th id=\"T_66338_level0_row0\" class=\"row_heading level0 row0\" >0</th>\n",
       "      <td id=\"T_66338_row0_col0\" class=\"data row0 col0\" >31.33%</td>\n",
       "      <td id=\"T_66338_row0_col1\" class=\"data row0 col1\" >34.65%</td>\n",
       "      <td id=\"T_66338_row0_col2\" class=\"data row0 col2\" >34.02%</td>\n",
       "    </tr>\n",
       "    <tr>\n",
       "      <th id=\"T_66338_level0_row1\" class=\"row_heading level0 row1\" >1</th>\n",
       "      <td id=\"T_66338_row1_col0\" class=\"data row1 col0\" >40.68%</td>\n",
       "      <td id=\"T_66338_row1_col1\" class=\"data row1 col1\" >37.29%</td>\n",
       "      <td id=\"T_66338_row1_col2\" class=\"data row1 col2\" >22.03%</td>\n",
       "    </tr>\n",
       "    <tr>\n",
       "      <th id=\"T_66338_level0_row2\" class=\"row_heading level0 row2\" >All</th>\n",
       "      <td id=\"T_66338_row2_col0\" class=\"data row2 col0\" >32.35%</td>\n",
       "      <td id=\"T_66338_row2_col1\" class=\"data row2 col1\" >34.94%</td>\n",
       "      <td id=\"T_66338_row2_col2\" class=\"data row2 col2\" >32.72%</td>\n",
       "    </tr>\n",
       "  </tbody>\n",
       "</table>\n"
      ],
      "text/plain": [
       "<pandas.io.formats.style.Styler at 0x13d4b6f10>"
      ]
     },
     "metadata": {},
     "output_type": "display_data"
    },
    {
     "data": {
      "text/html": [
       "<style type=\"text/css\">\n",
       "</style>\n",
       "<table id=\"T_27d65\">\n",
       "  <thead>\n",
       "    <tr>\n",
       "      <th class=\"index_name level0\" >Ethnicity</th>\n",
       "      <th id=\"T_27d65_level0_col0\" class=\"col_heading level0 col0\" >Ethnicity1</th>\n",
       "      <th id=\"T_27d65_level0_col1\" class=\"col_heading level0 col1\" >Ethnicity2</th>\n",
       "      <th id=\"T_27d65_level0_col2\" class=\"col_heading level0 col2\" >Ethnicity3</th>\n",
       "      <th id=\"T_27d65_level0_col3\" class=\"col_heading level0 col3\" >Ethnicity4</th>\n",
       "    </tr>\n",
       "    <tr>\n",
       "      <th class=\"index_name level0\" >Finished</th>\n",
       "      <th class=\"blank col0\" >&nbsp;</th>\n",
       "      <th class=\"blank col1\" >&nbsp;</th>\n",
       "      <th class=\"blank col2\" >&nbsp;</th>\n",
       "      <th class=\"blank col3\" >&nbsp;</th>\n",
       "    </tr>\n",
       "  </thead>\n",
       "  <tbody>\n",
       "    <tr>\n",
       "      <th id=\"T_27d65_level0_row0\" class=\"row_heading level0 row0\" >0</th>\n",
       "      <td id=\"T_27d65_row0_col0\" class=\"data row0 col0\" >22.82%</td>\n",
       "      <td id=\"T_27d65_row0_col1\" class=\"data row0 col1\" >27.39%</td>\n",
       "      <td id=\"T_27d65_row0_col2\" class=\"data row0 col2\" >23.86%</td>\n",
       "      <td id=\"T_27d65_row0_col3\" class=\"data row0 col3\" >25.93%</td>\n",
       "    </tr>\n",
       "    <tr>\n",
       "      <th id=\"T_27d65_level0_row1\" class=\"row_heading level0 row1\" >1</th>\n",
       "      <td id=\"T_27d65_row1_col0\" class=\"data row1 col0\" >33.90%</td>\n",
       "      <td id=\"T_27d65_row1_col1\" class=\"data row1 col1\" >18.64%</td>\n",
       "      <td id=\"T_27d65_row1_col2\" class=\"data row1 col2\" >20.34%</td>\n",
       "      <td id=\"T_27d65_row1_col3\" class=\"data row1 col3\" >27.12%</td>\n",
       "    </tr>\n",
       "    <tr>\n",
       "      <th id=\"T_27d65_level0_row2\" class=\"row_heading level0 row2\" >All</th>\n",
       "      <td id=\"T_27d65_row2_col0\" class=\"data row2 col0\" >24.03%</td>\n",
       "      <td id=\"T_27d65_row2_col1\" class=\"data row2 col1\" >26.43%</td>\n",
       "      <td id=\"T_27d65_row2_col2\" class=\"data row2 col2\" >23.48%</td>\n",
       "      <td id=\"T_27d65_row2_col3\" class=\"data row2 col3\" >26.06%</td>\n",
       "    </tr>\n",
       "  </tbody>\n",
       "</table>\n"
      ],
      "text/plain": [
       "<pandas.io.formats.style.Styler at 0x13d43a760>"
      ]
     },
     "metadata": {},
     "output_type": "display_data"
    },
    {
     "data": {
      "text/html": [
       "<style type=\"text/css\">\n",
       "</style>\n",
       "<table id=\"T_15e37\">\n",
       "  <thead>\n",
       "    <tr>\n",
       "      <th class=\"index_name level0\" >MedicalHistory</th>\n",
       "      <th id=\"T_15e37_level0_col0\" class=\"col_heading level0 col0\" >History1</th>\n",
       "      <th id=\"T_15e37_level0_col1\" class=\"col_heading level0 col1\" >History2</th>\n",
       "      <th id=\"T_15e37_level0_col2\" class=\"col_heading level0 col2\" >None</th>\n",
       "    </tr>\n",
       "    <tr>\n",
       "      <th class=\"index_name level0\" >Finished</th>\n",
       "      <th class=\"blank col0\" >&nbsp;</th>\n",
       "      <th class=\"blank col1\" >&nbsp;</th>\n",
       "      <th class=\"blank col2\" >&nbsp;</th>\n",
       "    </tr>\n",
       "  </thead>\n",
       "  <tbody>\n",
       "    <tr>\n",
       "      <th id=\"T_15e37_level0_row0\" class=\"row_heading level0 row0\" >0</th>\n",
       "      <td id=\"T_15e37_row0_col0\" class=\"data row0 col0\" >35.89%</td>\n",
       "      <td id=\"T_15e37_row0_col1\" class=\"data row0 col1\" >28.42%</td>\n",
       "      <td id=\"T_15e37_row0_col2\" class=\"data row0 col2\" >35.68%</td>\n",
       "    </tr>\n",
       "    <tr>\n",
       "      <th id=\"T_15e37_level0_row1\" class=\"row_heading level0 row1\" >1</th>\n",
       "      <td id=\"T_15e37_row1_col0\" class=\"data row1 col0\" >35.59%</td>\n",
       "      <td id=\"T_15e37_row1_col1\" class=\"data row1 col1\" >42.37%</td>\n",
       "      <td id=\"T_15e37_row1_col2\" class=\"data row1 col2\" >22.03%</td>\n",
       "    </tr>\n",
       "    <tr>\n",
       "      <th id=\"T_15e37_level0_row2\" class=\"row_heading level0 row2\" >All</th>\n",
       "      <td id=\"T_15e37_row2_col0\" class=\"data row2 col0\" >35.86%</td>\n",
       "      <td id=\"T_15e37_row2_col1\" class=\"data row2 col1\" >29.94%</td>\n",
       "      <td id=\"T_15e37_row2_col2\" class=\"data row2 col2\" >34.20%</td>\n",
       "    </tr>\n",
       "  </tbody>\n",
       "</table>\n"
      ],
      "text/plain": [
       "<pandas.io.formats.style.Styler at 0x13d4fc4c0>"
      ]
     },
     "metadata": {},
     "output_type": "display_data"
    },
    {
     "data": {
      "text/html": [
       "<style type=\"text/css\">\n",
       "</style>\n",
       "<table id=\"T_1acee\">\n",
       "  <thead>\n",
       "    <tr>\n",
       "      <th class=\"index_name level0\" >BaselineVitals</th>\n",
       "      <th id=\"T_1acee_level0_col0\" class=\"col_heading level0 col0\" >Elevated</th>\n",
       "      <th id=\"T_1acee_level0_col1\" class=\"col_heading level0 col1\" >Normal</th>\n",
       "      <th id=\"T_1acee_level0_col2\" class=\"col_heading level0 col2\" >Slightly Elevated</th>\n",
       "    </tr>\n",
       "    <tr>\n",
       "      <th class=\"index_name level0\" >Finished</th>\n",
       "      <th class=\"blank col0\" >&nbsp;</th>\n",
       "      <th class=\"blank col1\" >&nbsp;</th>\n",
       "      <th class=\"blank col2\" >&nbsp;</th>\n",
       "    </tr>\n",
       "  </thead>\n",
       "  <tbody>\n",
       "    <tr>\n",
       "      <th id=\"T_1acee_level0_row0\" class=\"row_heading level0 row0\" >0</th>\n",
       "      <td id=\"T_1acee_row0_col0\" class=\"data row0 col0\" >31.74%</td>\n",
       "      <td id=\"T_1acee_row0_col1\" class=\"data row0 col1\" >36.10%</td>\n",
       "      <td id=\"T_1acee_row0_col2\" class=\"data row0 col2\" >32.16%</td>\n",
       "    </tr>\n",
       "    <tr>\n",
       "      <th id=\"T_1acee_level0_row1\" class=\"row_heading level0 row1\" >1</th>\n",
       "      <td id=\"T_1acee_row1_col0\" class=\"data row1 col0\" >35.59%</td>\n",
       "      <td id=\"T_1acee_row1_col1\" class=\"data row1 col1\" >27.12%</td>\n",
       "      <td id=\"T_1acee_row1_col2\" class=\"data row1 col2\" >37.29%</td>\n",
       "    </tr>\n",
       "    <tr>\n",
       "      <th id=\"T_1acee_level0_row2\" class=\"row_heading level0 row2\" >All</th>\n",
       "      <td id=\"T_1acee_row2_col0\" class=\"data row2 col0\" >32.16%</td>\n",
       "      <td id=\"T_1acee_row2_col1\" class=\"data row2 col1\" >35.12%</td>\n",
       "      <td id=\"T_1acee_row2_col2\" class=\"data row2 col2\" >32.72%</td>\n",
       "    </tr>\n",
       "  </tbody>\n",
       "</table>\n"
      ],
      "text/plain": [
       "<pandas.io.formats.style.Styler at 0x13d4fc8e0>"
      ]
     },
     "metadata": {},
     "output_type": "display_data"
    }
   ],
   "source": [
    "categories_to_check = ['Gender', 'Ethnicity', \n",
    "                       'MedicalHistory', 'BaselineVitals']\n",
    "\n",
    "for categorical_col in categories_to_check:\n",
    "    display(pd.crosstab(participants_df['Finished'], \n",
    "                        participants_df[categorical_col], \n",
    "                        normalize='index', \n",
    "                        margins=True).style.format(\"{:.2%}\"))"
   ]
  },
  {
   "cell_type": "code",
   "execution_count": 9,
   "id": "f0d728f7-1b99-4269-ada5-e682e13c86e0",
   "metadata": {},
   "outputs": [
    {
     "data": {
      "text/html": [
       "<div>\n",
       "<style scoped>\n",
       "    .dataframe tbody tr th:only-of-type {\n",
       "        vertical-align: middle;\n",
       "    }\n",
       "\n",
       "    .dataframe tbody tr th {\n",
       "        vertical-align: top;\n",
       "    }\n",
       "\n",
       "    .dataframe thead th {\n",
       "        text-align: right;\n",
       "    }\n",
       "</style>\n",
       "<table border=\"1\" class=\"dataframe\">\n",
       "  <thead>\n",
       "    <tr style=\"text-align: right;\">\n",
       "      <th></th>\n",
       "      <th>Age</th>\n",
       "      <th>Height</th>\n",
       "      <th>Weight</th>\n",
       "    </tr>\n",
       "    <tr>\n",
       "      <th>Finished</th>\n",
       "      <th></th>\n",
       "      <th></th>\n",
       "      <th></th>\n",
       "    </tr>\n",
       "  </thead>\n",
       "  <tbody>\n",
       "    <tr>\n",
       "      <th>0</th>\n",
       "      <td>40.69</td>\n",
       "      <td>174.80</td>\n",
       "      <td>73.53</td>\n",
       "    </tr>\n",
       "    <tr>\n",
       "      <th>1</th>\n",
       "      <td>42.03</td>\n",
       "      <td>172.69</td>\n",
       "      <td>73.90</td>\n",
       "    </tr>\n",
       "  </tbody>\n",
       "</table>\n",
       "</div>"
      ],
      "text/plain": [
       "           Age  Height  Weight\n",
       "Finished                      \n",
       "0        40.69  174.80   73.53\n",
       "1        42.03  172.69   73.90"
      ]
     },
     "execution_count": 9,
     "metadata": {},
     "output_type": "execute_result"
    }
   ],
   "source": [
    "pd.pivot_table(participants_df, values=numeric_cols, index='Finished')"
   ]
  },
  {
   "cell_type": "markdown",
   "id": "019936c4-3291-413b-b26a-d1fd9e6bb685",
   "metadata": {},
   "source": [
    "### Dose\n",
    "\n",
    "Now, let's take a look at `dose_df`! First, let's start with the categorical variables. We should note that our `DoseNumber` column is stored as an `int`, but we want to treat dose numbers 1, 2, and 3 as distinct categories. In order to do so, we cast the column as a `str`.\n",
    "\n",
    "In addition, our trial design requires that those who receieved dose #3 are guaranteed to have recieved dose #2, and those who received dose #2 are guaranteed to have recieved dose #1. With real world data, these assumptions should be checked. For example, you should check the date field to ensure that the dose numbers correspond to the order the doses were given in."
   ]
  },
  {
   "cell_type": "code",
   "execution_count": 10,
   "id": "aef3b4d4-11ec-43be-808b-a45591040fdb",
   "metadata": {},
   "outputs": [
    {
     "data": {
      "text/html": [
       "<div>\n",
       "<style scoped>\n",
       "    .dataframe tbody tr th:only-of-type {\n",
       "        vertical-align: middle;\n",
       "    }\n",
       "\n",
       "    .dataframe tbody tr th {\n",
       "        vertical-align: top;\n",
       "    }\n",
       "\n",
       "    .dataframe thead th {\n",
       "        text-align: right;\n",
       "    }\n",
       "</style>\n",
       "<table border=\"1\" class=\"dataframe\">\n",
       "  <thead>\n",
       "    <tr style=\"text-align: right;\">\n",
       "      <th></th>\n",
       "      <th>DoseNumber</th>\n",
       "      <th>AdverseEvents</th>\n",
       "      <th>SeverityOfAdverseEvents</th>\n",
       "      <th>VitalsPostDose</th>\n",
       "      <th>LabResultsPostDose</th>\n",
       "    </tr>\n",
       "  </thead>\n",
       "  <tbody>\n",
       "    <tr>\n",
       "      <th>count</th>\n",
       "      <td>126</td>\n",
       "      <td>126</td>\n",
       "      <td>126</td>\n",
       "      <td>126</td>\n",
       "      <td>126</td>\n",
       "    </tr>\n",
       "    <tr>\n",
       "      <th>unique</th>\n",
       "      <td>3</td>\n",
       "      <td>4</td>\n",
       "      <td>4</td>\n",
       "      <td>3</td>\n",
       "      <td>3</td>\n",
       "    </tr>\n",
       "    <tr>\n",
       "      <th>top</th>\n",
       "      <td>1</td>\n",
       "      <td>None</td>\n",
       "      <td>None</td>\n",
       "      <td>Normal</td>\n",
       "      <td>Abnormal</td>\n",
       "    </tr>\n",
       "    <tr>\n",
       "      <th>freq</th>\n",
       "      <td>67</td>\n",
       "      <td>79</td>\n",
       "      <td>79</td>\n",
       "      <td>56</td>\n",
       "      <td>49</td>\n",
       "    </tr>\n",
       "  </tbody>\n",
       "</table>\n",
       "</div>"
      ],
      "text/plain": [
       "       DoseNumber AdverseEvents SeverityOfAdverseEvents VitalsPostDose  \\\n",
       "count         126           126                     126            126   \n",
       "unique          3             4                       4              3   \n",
       "top             1          None                    None         Normal   \n",
       "freq           67            79                      79             56   \n",
       "\n",
       "       LabResultsPostDose  \n",
       "count                 126  \n",
       "unique                  3  \n",
       "top              Abnormal  \n",
       "freq                   49  "
      ]
     },
     "execution_count": 10,
     "metadata": {},
     "output_type": "execute_result"
    }
   ],
   "source": [
    "categorical_cols = ['DoseNumber', 'AdverseEvents', 'SeverityOfAdverseEvents', \n",
    "                    'VitalsPostDose', 'LabResultsPostDose']\n",
    "\n",
    "dose_categorial_df = dose_df[categorical_cols].copy()\n",
    "\n",
    "dose_categorial_df['DoseNumber'] = dose_categorial_df['DoseNumber'].astype(str)\n",
    "\n",
    "dose_categorial_df.describe()"
   ]
  },
  {
   "cell_type": "markdown",
   "id": "57a94992-37d2-4196-9d9a-e64f5a3ad099",
   "metadata": {},
   "source": [
    "It's good to see that our most common `AdverseEvents` is `None`! Now we can take a look at the numeric field in the `dose_df` table, `DurationOfAdverseEvents`."
   ]
  },
  {
   "cell_type": "code",
   "execution_count": 11,
   "id": "669c3c37-1451-4b72-9d4e-660f88e8bcc7",
   "metadata": {},
   "outputs": [
    {
     "data": {
      "text/html": [
       "<div>\n",
       "<style scoped>\n",
       "    .dataframe tbody tr th:only-of-type {\n",
       "        vertical-align: middle;\n",
       "    }\n",
       "\n",
       "    .dataframe tbody tr th {\n",
       "        vertical-align: top;\n",
       "    }\n",
       "\n",
       "    .dataframe thead th {\n",
       "        text-align: right;\n",
       "    }\n",
       "</style>\n",
       "<table border=\"1\" class=\"dataframe\">\n",
       "  <thead>\n",
       "    <tr style=\"text-align: right;\">\n",
       "      <th></th>\n",
       "      <th>DurationOfAdverseEvents</th>\n",
       "    </tr>\n",
       "  </thead>\n",
       "  <tbody>\n",
       "    <tr>\n",
       "      <th>count</th>\n",
       "      <td>126.00</td>\n",
       "    </tr>\n",
       "    <tr>\n",
       "      <th>mean</th>\n",
       "      <td>1.02</td>\n",
       "    </tr>\n",
       "    <tr>\n",
       "      <th>std</th>\n",
       "      <td>1.53</td>\n",
       "    </tr>\n",
       "    <tr>\n",
       "      <th>min</th>\n",
       "      <td>0.00</td>\n",
       "    </tr>\n",
       "    <tr>\n",
       "      <th>25%</th>\n",
       "      <td>0.00</td>\n",
       "    </tr>\n",
       "    <tr>\n",
       "      <th>50%</th>\n",
       "      <td>0.00</td>\n",
       "    </tr>\n",
       "    <tr>\n",
       "      <th>75%</th>\n",
       "      <td>2.00</td>\n",
       "    </tr>\n",
       "    <tr>\n",
       "      <th>max</th>\n",
       "      <td>4.00</td>\n",
       "    </tr>\n",
       "  </tbody>\n",
       "</table>\n",
       "</div>"
      ],
      "text/plain": [
       "       DurationOfAdverseEvents\n",
       "count                   126.00\n",
       "mean                      1.02\n",
       "std                       1.53\n",
       "min                       0.00\n",
       "25%                       0.00\n",
       "50%                       0.00\n",
       "75%                       2.00\n",
       "max                       4.00"
      ]
     },
     "execution_count": 11,
     "metadata": {},
     "output_type": "execute_result"
    }
   ],
   "source": [
    "dose_numeric_cols = ['DurationOfAdverseEvents']\n",
    "\n",
    "dose_df[dose_numeric_cols].describe()"
   ]
  },
  {
   "cell_type": "markdown",
   "id": "f66e498f-041d-487d-a844-201006324227",
   "metadata": {},
   "source": [
    "The mean duration of an adverse event is `1.02` days. Not bad!\n",
    "\n",
    "We are finally ready to answer our first question: _What is the frequency and severity of adverse events from Phase I?_\n",
    "\n",
    "Let's start with the frequency:"
   ]
  },
  {
   "cell_type": "code",
   "execution_count": 12,
   "id": "9060a237-0f43-40d8-ade0-bdd91c576c9a",
   "metadata": {},
   "outputs": [
    {
     "data": {
      "text/html": [
       "<div>\n",
       "<style scoped>\n",
       "    .dataframe tbody tr th:only-of-type {\n",
       "        vertical-align: middle;\n",
       "    }\n",
       "\n",
       "    .dataframe tbody tr th {\n",
       "        vertical-align: top;\n",
       "    }\n",
       "\n",
       "    .dataframe thead th {\n",
       "        text-align: right;\n",
       "    }\n",
       "</style>\n",
       "<table border=\"1\" class=\"dataframe\">\n",
       "  <thead>\n",
       "    <tr style=\"text-align: right;\">\n",
       "      <th></th>\n",
       "      <th>proportion</th>\n",
       "    </tr>\n",
       "    <tr>\n",
       "      <th>HadAdverseEvent</th>\n",
       "      <th></th>\n",
       "    </tr>\n",
       "  </thead>\n",
       "  <tbody>\n",
       "    <tr>\n",
       "      <th>False</th>\n",
       "      <td>0.63</td>\n",
       "    </tr>\n",
       "    <tr>\n",
       "      <th>True</th>\n",
       "      <td>0.37</td>\n",
       "    </tr>\n",
       "  </tbody>\n",
       "</table>\n",
       "</div>"
      ],
      "text/plain": [
       "                 proportion\n",
       "HadAdverseEvent            \n",
       "False                  0.63\n",
       "True                   0.37"
      ]
     },
     "execution_count": 12,
     "metadata": {},
     "output_type": "execute_result"
    }
   ],
   "source": [
    "dose_df['HadAdverseEvent'] = (dose_df['AdverseEvents']!='None')\n",
    "\n",
    "had_adevent_freq = dose_df['HadAdverseEvent'].value_counts(normalize=True)\n",
    "\n",
    "pd.DataFrame(had_adevent_freq)"
   ]
  },
  {
   "cell_type": "markdown",
   "id": "d3d9e3ee-1f8e-4920-b920-b658a9711446",
   "metadata": {},
   "source": [
    "37% of doses resulted in an adverse event, while 63% did not. If these adverse events were frequently mild in nature, then our treatment might be sufficently safe. Now, let's see severity as a percent of those with adverse events:"
   ]
  },
  {
   "cell_type": "code",
   "execution_count": 13,
   "id": "ddf6dbb9-5caa-4d01-82ad-60081c2c398c",
   "metadata": {},
   "outputs": [
    {
     "data": {
      "text/html": [
       "<div>\n",
       "<style scoped>\n",
       "    .dataframe tbody tr th:only-of-type {\n",
       "        vertical-align: middle;\n",
       "    }\n",
       "\n",
       "    .dataframe tbody tr th {\n",
       "        vertical-align: top;\n",
       "    }\n",
       "\n",
       "    .dataframe thead th {\n",
       "        text-align: right;\n",
       "    }\n",
       "</style>\n",
       "<table border=\"1\" class=\"dataframe\">\n",
       "  <thead>\n",
       "    <tr style=\"text-align: right;\">\n",
       "      <th></th>\n",
       "      <th>proportion</th>\n",
       "    </tr>\n",
       "    <tr>\n",
       "      <th>AdverseEvents</th>\n",
       "      <th></th>\n",
       "    </tr>\n",
       "  </thead>\n",
       "  <tbody>\n",
       "    <tr>\n",
       "      <th>Mild</th>\n",
       "      <td>0.51</td>\n",
       "    </tr>\n",
       "    <tr>\n",
       "      <th>Moderate</th>\n",
       "      <td>0.26</td>\n",
       "    </tr>\n",
       "    <tr>\n",
       "      <th>Severe</th>\n",
       "      <td>0.23</td>\n",
       "    </tr>\n",
       "  </tbody>\n",
       "</table>\n",
       "</div>"
      ],
      "text/plain": [
       "               proportion\n",
       "AdverseEvents            \n",
       "Mild                 0.51\n",
       "Moderate             0.26\n",
       "Severe               0.23"
      ]
     },
     "execution_count": 13,
     "metadata": {},
     "output_type": "execute_result"
    }
   ],
   "source": [
    "dose_adevents_df = dose_df[dose_df['AdverseEvents']!='None']\n",
    "\n",
    "adevent_freq = dose_adevents_df['AdverseEvents'].value_counts(normalize=True)\n",
    "\n",
    "pd.DataFrame(adevent_freq)"
   ]
  },
  {
   "cell_type": "markdown",
   "id": "299976bc-b7bc-4e8b-9f32-13be7772bdbc",
   "metadata": {},
   "source": [
    "51% of the adverse events were `Mild`&#151;just barely the majority. Now, let's look at adverse events in light of an additional variable, `DoseNumber`. "
   ]
  },
  {
   "cell_type": "markdown",
   "id": "698876c2-ac55-4181-bb65-2b10f70f1524",
   "metadata": {},
   "source": [
    "## Exploring the relationship between dose trends and adverse events\n",
    "\n",
    "Time for question 2: _Are there any dose-related trends in the adverse events?_\n",
    "\n",
    "We can visualize the answer to this question by looking at the frequency and severity of adverse events by dose, both as a raw count and as a percentage. We will also check the adverse event duration for completeness."
   ]
  },
  {
   "cell_type": "code",
   "execution_count": 14,
   "id": "f85c4f56-012e-4a14-8cf1-286c32505b0a",
   "metadata": {},
   "outputs": [
    {
     "data": {
      "image/png": "[encoded data removed]",
      "text/plain": [
       "<Figure size 640x480 with 1 Axes>"
      ]
     },
     "metadata": {},
     "output_type": "display_data"
    }
   ],
   "source": [
    "dose_num_by_ad_events = pd.crosstab(dose_df['DoseNumber'], \n",
    "                                    dose_df['HadAdverseEvent'])\n",
    "\n",
    "ax = dose_num_by_ad_events.plot(kind=\"bar\", grid=True)\n",
    "ax.set_title(\"Adverse Events by Dose Number - Count\")\n",
    "\n",
    "plt.show()"
   ]
  },
  {
   "cell_type": "markdown",
   "id": "bef2d968-d375-4e4f-bf74-770024cc8f7e",
   "metadata": {},
   "source": [
    "We already know that less partipants took dose #3 than dose #2 and that less took dose #2 than dose #1, so we need to normalize these figures:"
   ]
  },
  {
   "cell_type": "code",
   "execution_count": 15,
   "id": "d8bac422-5edd-4d8f-96f7-b0f807789cb2",
   "metadata": {},
   "outputs": [
    {
     "data": {
      "image/png": "[encoded data removed]",
      "text/plain": [
       "<Figure size 640x480 with 1 Axes>"
      ]
     },
     "metadata": {},
     "output_type": "display_data"
    }
   ],
   "source": [
    "dose_num_by_ad_events_normed = pd.crosstab(dose_df['DoseNumber'], \n",
    "                                           dose_df['HadAdverseEvent'], \n",
    "                                           normalize='index')\n",
    "\n",
    "ax = dose_num_by_ad_events_normed.plot(kind=\"bar\", grid=True)\n",
    "ax.set_title(\"Adverse Events by Dose Number - Proportion\")\n",
    "\n",
    "plt.show()"
   ]
  },
  {
   "cell_type": "markdown",
   "id": "b34cfef1-d04f-47e7-97b3-c1cdd4e8b93f",
   "metadata": {},
   "source": [
    "According to our data, the number of participants who experenced an adverse event slightly increased with additional doses. However, we cannot draw any conclusions from this chart alone due to the different sample sizes.\n",
    "\n",
    "We can also create charts that look at the severity of `AdverseEvents` by `DoseNumber`:"
   ]
  },
  {
   "cell_type": "code",
   "execution_count": 16,
   "id": "d1ee59b7-4ac1-4eb2-b5fc-c3023f6523c9",
   "metadata": {},
   "outputs": [
    {
     "data": {
      "image/png": "[encoded data removed]",
      "text/plain": [
       "<Figure size 640x480 with 1 Axes>"
      ]
     },
     "metadata": {},
     "output_type": "display_data"
    }
   ],
   "source": [
    "dose_by_adevents = pd.crosstab(dose_df['DoseNumber'], \n",
    "                               dose_df['AdverseEvents'])\n",
    "\n",
    "ax = dose_by_adevents[['Mild', 'Moderate', 'Severe']].plot(kind=\"bar\", grid=True)\n",
    "\n",
    "ax.set_title(\"Type of Adverse Events by Dose Number - Count\")\n",
    "plt.show()"
   ]
  },
  {
   "cell_type": "code",
   "execution_count": 17,
   "id": "fffa99ea-9e03-41ae-8169-b9ad2e2f2fe5",
   "metadata": {},
   "outputs": [
    {
     "data": {
      "image/png": "[encoded data removed]",
      "text/plain": [
       "<Figure size 640x480 with 1 Axes>"
      ]
     },
     "metadata": {},
     "output_type": "display_data"
    }
   ],
   "source": [
    "dose_by_adevents_normed = pd.crosstab(dose_df['DoseNumber'], \n",
    "                                      dose_df['AdverseEvents'], \n",
    "                                      normalize='index')\n",
    "\n",
    "ax = dose_by_adevents_normed[['Mild', 'Moderate', 'Severe']].plot(kind=\"bar\", grid=True)\n",
    "ax.set_title(\"Type of Adverse Events by Dose Number - Proportion\")\n",
    "plt.show()"
   ]
  },
  {
   "cell_type": "markdown",
   "id": "922e03c6-d1ec-43f4-b6e5-eabe31bfb174",
   "metadata": {},
   "source": [
    "`Mild` events make up a higher percentage adverse events in subsequent doses, while `Moderate` events make up a lesser percentage.\n",
    "\n",
    "Let's shift over to `DurationOfAdverseEvents`:"
   ]
  },
  {
   "cell_type": "code",
   "execution_count": 18,
   "id": "a91cf97b-6923-4d71-af31-e108924b4bb4",
   "metadata": {},
   "outputs": [
    {
     "data": {
      "text/html": [
       "<div>\n",
       "<style scoped>\n",
       "    .dataframe tbody tr th:only-of-type {\n",
       "        vertical-align: middle;\n",
       "    }\n",
       "\n",
       "    .dataframe tbody tr th {\n",
       "        vertical-align: top;\n",
       "    }\n",
       "\n",
       "    .dataframe thead th {\n",
       "        text-align: right;\n",
       "    }\n",
       "</style>\n",
       "<table border=\"1\" class=\"dataframe\">\n",
       "  <thead>\n",
       "    <tr style=\"text-align: right;\">\n",
       "      <th></th>\n",
       "      <th>DurationOfAdverseEvents</th>\n",
       "    </tr>\n",
       "    <tr>\n",
       "      <th>AdverseEvents</th>\n",
       "      <th></th>\n",
       "    </tr>\n",
       "  </thead>\n",
       "  <tbody>\n",
       "    <tr>\n",
       "      <th>Mild</th>\n",
       "      <td>2.71</td>\n",
       "    </tr>\n",
       "    <tr>\n",
       "      <th>Moderate</th>\n",
       "      <td>2.67</td>\n",
       "    </tr>\n",
       "    <tr>\n",
       "      <th>Severe</th>\n",
       "      <td>2.91</td>\n",
       "    </tr>\n",
       "  </tbody>\n",
       "</table>\n",
       "</div>"
      ],
      "text/plain": [
       "               DurationOfAdverseEvents\n",
       "AdverseEvents                         \n",
       "Mild                              2.71\n",
       "Moderate                          2.67\n",
       "Severe                            2.91"
      ]
     },
     "execution_count": 18,
     "metadata": {},
     "output_type": "execute_result"
    }
   ],
   "source": [
    "pd.pivot_table(dose_df[dose_df['HadAdverseEvent']], \n",
    "               values='DurationOfAdverseEvents', \n",
    "               index='AdverseEvents')"
   ]
  },
  {
   "cell_type": "markdown",
   "id": "01b134b2-25ca-4a1a-9f16-be57e6157dd7",
   "metadata": {},
   "source": [
    "Overall, `Mild`, `Moderate`, and `Severe` events have fairly similar durations with `Moderate` events occuring for the shortest duration on average and `Severe` events occuring the longest. We can look at these means by `DoseNumber` as well:"
   ]
  },
  {
   "cell_type": "code",
   "execution_count": 19,
   "id": "f2aa180e-7285-4320-bac7-f73a600b9c63",
   "metadata": {},
   "outputs": [
    {
     "data": {
      "text/html": [
       "<div>\n",
       "<style scoped>\n",
       "    .dataframe tbody tr th:only-of-type {\n",
       "        vertical-align: middle;\n",
       "    }\n",
       "\n",
       "    .dataframe tbody tr th {\n",
       "        vertical-align: top;\n",
       "    }\n",
       "\n",
       "    .dataframe thead th {\n",
       "        text-align: right;\n",
       "    }\n",
       "</style>\n",
       "<table border=\"1\" class=\"dataframe\">\n",
       "  <thead>\n",
       "    <tr style=\"text-align: right;\">\n",
       "      <th>AdverseEvents</th>\n",
       "      <th>Mild</th>\n",
       "      <th>Moderate</th>\n",
       "      <th>Severe</th>\n",
       "    </tr>\n",
       "    <tr>\n",
       "      <th>DoseNumber</th>\n",
       "      <th></th>\n",
       "      <th></th>\n",
       "      <th></th>\n",
       "    </tr>\n",
       "  </thead>\n",
       "  <tbody>\n",
       "    <tr>\n",
       "      <th>1</th>\n",
       "      <td>3.00</td>\n",
       "      <td>2.90</td>\n",
       "      <td>3.00</td>\n",
       "    </tr>\n",
       "    <tr>\n",
       "      <th>2</th>\n",
       "      <td>2.67</td>\n",
       "      <td>1.50</td>\n",
       "      <td>2.80</td>\n",
       "    </tr>\n",
       "    <tr>\n",
       "      <th>3</th>\n",
       "      <td>2.20</td>\n",
       "      <td>NaN</td>\n",
       "      <td>3.00</td>\n",
       "    </tr>\n",
       "  </tbody>\n",
       "</table>\n",
       "</div>"
      ],
      "text/plain": [
       "AdverseEvents  Mild  Moderate  Severe\n",
       "DoseNumber                           \n",
       "1              3.00      2.90    3.00\n",
       "2              2.67      1.50    2.80\n",
       "3              2.20       NaN    3.00"
      ]
     },
     "execution_count": 19,
     "metadata": {},
     "output_type": "execute_result"
    }
   ],
   "source": [
    "pd.pivot_table(dose_df[dose_df['HadAdverseEvent']], \n",
    "               values='DurationOfAdverseEvents', \n",
    "               index='DoseNumber', columns='AdverseEvents')"
   ]
  },
  {
   "cell_type": "markdown",
   "id": "e014a6c6-dc70-4531-996d-00396376c9d5",
   "metadata": {},
   "source": [
    "On average, `Mild` events occured for shorter periods of time after subsequent doses. In contrast, `Severe` events show no clear trend.\n",
    "\n",
    "One hypothesis we might have after considering these charts is that `Mild` adverse events become more likely than `Moderate` or `Severe` ones after repeated doses. \n",
    "\n",
    "Another hypothesis we can formulate is that the duration of `Mild` adverse effects lessens after repeated doses.\n",
    "\n",
    "For the purposes of this tutorial, we will test the second hypothesis by using one-way ANOVA, which tests whether the means of different groups are significantly different. In this experimental setup, our hypothesis can be written as:\n",
    "\n",
    "- H<sub>0</sub>: The groups that took 1, 2, and 3 doses of treatment have an equal mean duration of `Mild` adverse reactions\n",
    "- H<sub>$\\alpha$</sub>: At least one of the above groups is different from the others in regards to `Mild` adverse reaction duration\n",
    "\n",
    "Using a 95% condfidence threshold, if our ANOVA test p-value is < 0.05, we can reject H<sub>0</sub>. "
   ]
  },
  {
   "cell_type": "code",
   "execution_count": 20,
   "id": "ae471ac1-38a2-48c1-af5f-cc06586e247f",
   "metadata": {},
   "outputs": [
    {
     "data": {
      "text/plain": [
       "F_onewayResult(statistic=0.7868923611111112, pvalue=0.46822717419525445)"
      ]
     },
     "execution_count": 20,
     "metadata": {},
     "output_type": "execute_result"
    }
   ],
   "source": [
    "anova_data = dose_df[dose_df['AdverseEvents']=='Mild']\n",
    "\n",
    "def get_anova_group(i):\n",
    "    return(anova_data[anova_data['DoseNumber']==i]['DurationOfAdverseEvents'])\n",
    "\n",
    "anova_groups = [get_anova_group(i) for i in [1, 2, 3]]\n",
    "\n",
    "f_oneway(*anova_groups)"
   ]
  },
  {
   "cell_type": "markdown",
   "id": "16998171-ac72-4738-b871-d2d8fe18fd5b",
   "metadata": {
    "jp-MarkdownHeadingCollapsed": true
   },
   "source": [
    "Our p-value is is 0.4682 and thus we cannot reject our H<sub>0</sub> at this point. This means that we cannot definitively state that our three `DoseNumber` groups are significantly different in regards to the mean of `DurationOfAdverseEvents` given the data we have collected in our Phase I trial.\n",
    "\n",
    "## Recommendations on a Phase II Trial\n",
    "\n",
    "Let's look at question 3: _What recommendations do you have for proceeding to Phase II?_\n",
    "\n",
    "Phase II trials also look at adverse reactions but do so by administering the treatment to the population it is aimed at. At this point, we have run one statistical test and were not able to reject the H<sub>0</sub>. However, the Phase II trial will collect a larger number of observations, so the test can be repeated with a larger sample size. \n",
    "\n",
    "In addition, we could consider other tests to run and data to collect. One suggestion we might make is to collect the severity metric as a score from 1-10. Then, we could use the severity metric in statistical tests focused on mean testing like t-tests and ANOVA.\n",
    "\n",
    "On the safety side, we observed only 11 `Severe` reactions, but these reactions did not seem to be influenced by the number of doses taken. Still, as more participants are added, this number should be monitored closely and be subjected to a statistical test.\n",
    "\n",
    "## Conclusion\n",
    "\n",
    "Congratulations on completing this tutorial! We love to hear your feedback and welcome you to email [feedback@dominodatalab.com](https://media3.giphy.com/media/111ebonMs90YLu/200.gif) with comments or concerns you may have."
   ]
  }
 ],
 "metadata": {
  "kernelspec": {
   "display_name": "Python 3 (ipykernel)",
   "language": "python",
   "name": "python3"
  },
  "language_info": {
   "codemirror_mode": {
    "name": "ipython",
    "version": 3
   },
   "file_extension": ".py",
   "mimetype": "text/x-python",
   "name": "python",
   "nbconvert_exporter": "python",
   "pygments_lexer": "ipython3",
   "version": "3.9.6"
  }
 },
 "nbformat": 4,
 "nbformat_minor": 5
}
